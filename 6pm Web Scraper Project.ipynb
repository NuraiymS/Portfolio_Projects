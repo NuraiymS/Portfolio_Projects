{
 "cells": [
  {
   "cell_type": "markdown",
   "id": "b3844c18",
   "metadata": {},
   "source": [
    "# 6pm Web Scraper Project"
   ]
  },
  {
   "cell_type": "code",
   "execution_count": 5,
   "id": "f21e937f",
   "metadata": {},
   "outputs": [],
   "source": [
    "#import libraries\n",
    "\n",
    "from bs4 import BeautifulSoup\n",
    "import requests\n",
    "import time\n",
    "import datetime\n",
    "import smtplib"
   ]
  },
  {
   "cell_type": "code",
   "execution_count": 6,
   "id": "280ab7c9",
   "metadata": {},
   "outputs": [
    {
     "name": "stdout",
     "output_type": "stream",
     "text": [
      "Furla\n",
      "$403.20\n"
     ]
    }
   ],
   "source": [
    "# Connect to URL\n",
    "\n",
    "URL = 'https://www.6pm.com/p/furla-miastella-mini-bucket-bag-nero/product/9786576/color/5291'\n",
    "\n",
    "headers = {\"User-Agent\": \"Mozilla/5.0 (Macintosh; Intel Mac OS X 10_15_7) AppleWebKit/605.1.15 (KHTML, like Gecko) Version/16.0 Safari/605.1.15\", \"Accept-Encoding\":\"gzip, deflate\", \"Accept\":\"text/html,application/xhtml+xml,application/xml;q=0.9,*/*;q=0.8\", \"DNT\":\"1\",\"Connection\":\"close\", \"Upgrade-Insecure-Requests\":\"1\"}\n",
    "\n",
    "#getting the data \n",
    "\n",
    "page = requests.get(URL, headers = headers)\n",
    "\n",
    "soup1 = BeautifulSoup(page.content, \"html.parser\")\n",
    "\n",
    "soup2 = BeautifulSoup(soup1.prettify(), \"html.parser\")\n",
    "\n",
    "brand = soup1.find(itemprop=\"name\").get_text()\n",
    "\n",
    "price = soup1.find(itemprop=\"price\").get_text()\n",
    "\n",
    "\n",
    "print(brand)\n",
    "\n",
    "print(price)"
   ]
  },
  {
   "cell_type": "code",
   "execution_count": 4,
   "id": "f5ceec84",
   "metadata": {},
   "outputs": [
    {
     "name": "stdout",
     "output_type": "stream",
     "text": [
      "403.20\n"
     ]
    }
   ],
   "source": [
    "# Preparing our data to export to excel or cvs (remove $)\n",
    "\n",
    "price = price.strip()[1:]\n",
    "\n",
    "print(price)"
   ]
  },
  {
   "cell_type": "code",
   "execution_count": 16,
   "id": "9db14ccf",
   "metadata": {},
   "outputs": [
    {
     "data": {
      "text/plain": [
       "str"
      ]
     },
     "execution_count": 16,
     "metadata": {},
     "output_type": "execute_result"
    }
   ],
   "source": [
    "type(price)"
   ]
  },
  {
   "cell_type": "code",
   "execution_count": 18,
   "id": "123f71d8",
   "metadata": {},
   "outputs": [
    {
     "name": "stdout",
     "output_type": "stream",
     "text": [
      "2023-08-05\n"
     ]
    }
   ],
   "source": [
    "import datetime\n",
    "\n",
    "date = datetime.date.today()\n",
    "\n",
    "print(date)"
   ]
  },
  {
   "cell_type": "code",
   "execution_count": 19,
   "id": "4240fea7",
   "metadata": {},
   "outputs": [],
   "source": [
    "#convert data type to list - important remember the type of our data, w = write, \n",
    "#newline put the space, encoding - default\n",
    "\n",
    "import csv\n",
    "\n",
    "header = ['Brand', 'Price', 'Date']\n",
    "\n",
    "data = [brand, price, date]\n",
    "\n",
    "#if we run this code again we could delete our previous data\n",
    "\n",
    "with open ('6pmWebScraperData.csv', 'w', newline = '', encoding = 'UTF8') as f:\n",
    "    writer = csv.writer(f)\n",
    "    writer.writerow(header)\n",
    "    writer.writerow(data)"
   ]
  },
  {
   "cell_type": "code",
   "execution_count": 20,
   "id": "dc3a820c",
   "metadata": {},
   "outputs": [
    {
     "name": "stdout",
     "output_type": "stream",
     "text": [
      "   Brand    Price        Date\n",
      "0  Furla  $403.20  2023-08-05\n"
     ]
    }
   ],
   "source": [
    "import pandas as pd\n",
    "\n",
    "df = pd.read_csv(r'/Users/nuraiymsardarbekova/6pmWebScraperData.csv')\n",
    "\n",
    "print(df)"
   ]
  },
  {
   "cell_type": "code",
   "execution_count": 21,
   "id": "fb3c2636",
   "metadata": {},
   "outputs": [],
   "source": [
    "#now we're appending data to the csv\n",
    "\n",
    "with open ('6pmWebScraperData.csv', 'a+', newline = '', encoding = 'UTF8') as f:\n",
    "    writer = csv.writer(f)\n",
    "    writer.writerow(data)\n"
   ]
  },
  {
   "cell_type": "code",
   "execution_count": null,
   "id": "6e5e8c65",
   "metadata": {},
   "outputs": [],
   "source": [
    "# Make it automatically updating\n",
    "\n",
    "def check_price():\n",
    "    \n",
    "    URL = 'https://www.6pm.com/p/furla-miastella-mini-bucket-bag-nero/product/9786576/color/5291'\n",
    "\n",
    "    headers = {\"User-Agent\": \"Mozilla/5.0 (Macintosh; Intel Mac OS X 10_15_7) AppleWebKit/605.1.15 (KHTML, like Gecko) Version/16.0 Safari/605.1.15\", \"Accept-Encoding\":\"gzip, deflate\", \"Accept\":\"text/html,application/xhtml+xml,application/xml;q=0.9,*/*;q=0.8\", \"DNT\":\"1\",\"Connection\":\"close\", \"Upgrade-Insecure-Requests\":\"1\"}\n",
    "\n",
    "    page = requests.get(URL, headers = headers)\n",
    "\n",
    "    soup1 = BeautifulSoup(page.content, \"html.parser\")\n",
    "\n",
    "    soup2 = BeautifulSoup(soup1.prettify(), \"html.parser\")\n",
    "\n",
    "    brand = soup1.find(itemprop=\"name\").get_text()\n",
    "\n",
    "    price2 = soup1.find(itemprop=\"price\").get_text()\n",
    "    \n",
    "    import datetime\n",
    "\n",
    "    date = datetime.date.today()\n",
    "\n",
    "    import csv\n",
    "\n",
    "    header = ['Brand', 'Price', 'Date']\n",
    "    data = [brand, price, date]\n",
    "    \n",
    "    with open('6pmWebScraperDataset.csv', 'a+', newline = '', encoding = 'UTF8') as f:\n",
    "        writer = csv.writer(f)\n",
    "        writer.writerow(data)\n",
    "    \n",
    "    if(price < 404.00):\n",
    "        send_mail\n",
    "  \n",
    "        "
   ]
  },
  {
   "cell_type": "code",
   "execution_count": null,
   "id": "c41c96e2",
   "metadata": {},
   "outputs": [],
   "source": [
    "#updating our data every day\n",
    "\n",
    "while(True):\n",
    "    check_price()\n",
    "    time.sleep(86400)\n"
   ]
  },
  {
   "cell_type": "code",
   "execution_count": null,
   "id": "c140aa65",
   "metadata": {},
   "outputs": [],
   "source": [
    "import pandas as pd\n",
    "\n",
    "df = pd.read_csv(r'/Users/nuraiymsardarbekova/6pmWebScraperDataset.csv')\n",
    "\n",
    "print(df)"
   ]
  },
  {
   "cell_type": "code",
   "execution_count": null,
   "id": "0fbb756f",
   "metadata": {},
   "outputs": [],
   "source": [
    "import smtplib\n",
    "\n",
    "def send_mail():\n",
    "    server = smtplib.SMTP_SSL('smtp.gmail.com', 465)\n",
    "    server.ehlo()\n",
    "\n",
    "    # server.starttls()\n",
    "    server.login('condohomefood@gmail.com', 'xxxxxxxxxxx')\n",
    "\n",
    "    subject = 'Sale on FURLA bag'\n",
    "    body = \"Nuraiym, It's time to buy, price less than link is here:https://www.6pm.com/p/furla-miastella-mini-bucket-bag-nero/product/9786576/color/5291\"\n",
    "\n",
    "    msg = f\"Subject: {subject}\\n\\n{body}\"\n",
    "\n",
    "    server.sendmail(\n",
    "        'condohomefood@gmail.com',\n",
    "        msg\n",
    "    )\n",
    "    server.quit()\n",
    "\n",
    "send_mail()"
   ]
  },
  {
   "cell_type": "code",
   "execution_count": null,
   "id": "c45e7a6f",
   "metadata": {},
   "outputs": [],
   "source": []
  },
  {
   "cell_type": "code",
   "execution_count": null,
   "id": "6ce0ce91",
   "metadata": {},
   "outputs": [],
   "source": []
  }
 ],
 "metadata": {
  "kernelspec": {
   "display_name": "Python 3 (ipykernel)",
   "language": "python",
   "name": "python3"
  },
  "language_info": {
   "codemirror_mode": {
    "name": "ipython",
    "version": 3
   },
   "file_extension": ".py",
   "mimetype": "text/x-python",
   "name": "python",
   "nbconvert_exporter": "python",
   "pygments_lexer": "ipython3",
   "version": "3.10.9"
  }
 },
 "nbformat": 4,
 "nbformat_minor": 5
}
