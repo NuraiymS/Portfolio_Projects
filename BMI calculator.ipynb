{
 "cells": [
  {
   "cell_type": "markdown",
   "id": "ff1770a2",
   "metadata": {},
   "source": [
    "BMI Calculator\n",
    "\n"
   ]
  },
  {
   "cell_type": "code",
   "execution_count": 16,
   "id": "c0b2d214",
   "metadata": {},
   "outputs": [
    {
     "name": "stdout",
     "output_type": "stream",
     "text": [
      "Name:Nuraiym\n",
      "Enter your weight in kg: 55\n",
      "Enter your height in meters: 168\n",
      "19.486961451247165\n",
      "Nuraiym, you are normal weight\n"
     ]
    }
   ],
   "source": [
    "name = input(\"Name:\")\n",
    "\n",
    "weight = int(input(\"Enter your weight in kg: \"))\n",
    "    \n",
    "\n",
    "height = int(input(\"Enter your height in meters: \"))\n",
    "\n",
    "BMI = (weight) / (height * height )*10000\n",
    "\n",
    "print(BMI)\n",
    "\n",
    "if BMI >0:\n",
    "    if (BMI < 18.5):\n",
    "        print( name + ', you are underweight.')\n",
    "    elif(BMI<= 24.9):\n",
    "        print(name + ', you are normal weight')\n",
    "    elif (BMI <=29.9):\n",
    "        print(name + ', you are overweight')\n",
    "    elif (BMI <= 34.9):\n",
    "        print(name + ', you are obese')\n",
    "    elif (BMI <= 39.9):\n",
    "        print(name + ', you are severely obese')\n",
    "    else:\n",
    "        print(name + ', you are morbidly obese')\n",
    "else:\n",
    "    print('Please enter valid input')"
   ]
  },
  {
   "cell_type": "code",
   "execution_count": null,
   "id": "303f7aeb",
   "metadata": {},
   "outputs": [],
   "source": []
  },
  {
   "cell_type": "code",
   "execution_count": null,
   "id": "95ec7f18",
   "metadata": {},
   "outputs": [],
   "source": [
    "Under 18.5\tUnderweight\tMinimal\n",
    "18.5 - 24.9\tNormal Weight\tMinimal\n",
    "25 - 29.9\tOverweight\tIncreased\n",
    "30 - 34.9\tObese\tHigh\n",
    "35 - 39.9\tSeverely Obese\tVery High\n",
    "40 and over\tMorbidly Obese\tExtremely High"
   ]
  },
  {
   "cell_type": "code",
   "execution_count": null,
   "id": "aa7d04c3",
   "metadata": {},
   "outputs": [],
   "source": [
    "#BMI = (weight in kg) / (height in meters x height in meters)"
   ]
  },
  {
   "cell_type": "code",
   "execution_count": null,
   "id": "5b32758e",
   "metadata": {},
   "outputs": [],
   "source": []
  }
 ],
 "metadata": {
  "kernelspec": {
   "display_name": "Python 3 (ipykernel)",
   "language": "python",
   "name": "python3"
  },
  "language_info": {
   "codemirror_mode": {
    "name": "ipython",
    "version": 3
   },
   "file_extension": ".py",
   "mimetype": "text/x-python",
   "name": "python",
   "nbconvert_exporter": "python",
   "pygments_lexer": "ipython3",
   "version": "3.10.9"
  }
 },
 "nbformat": 4,
 "nbformat_minor": 5
}
